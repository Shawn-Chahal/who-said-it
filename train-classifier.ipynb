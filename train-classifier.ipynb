{
 "cells": [
  {
   "cell_type": "code",
   "execution_count": 1,
   "metadata": {},
   "outputs": [],
   "source": [
    "import os\n",
    "import re\n",
    "import pandas as pd\n",
    "\n",
    "\n",
    "def clean_text(text):\n",
    "    text = re.sub(r\"'\", '', text)\n",
    "    text = re.sub(r'http\\S+', '', text)\n",
    "    text = re.sub(r'pic.twitter\\S+', '', text)\n",
    "    text = re.sub(r'\\W+', ' ', text.lower())\n",
    "\n",
    "    return text\n",
    "\n",
    "\n",
    "df = pd.read_csv(os.path.join('tweets', 'tweets.csv'),\n",
    "                 low_memory=False)\n",
    "df.drop_duplicates(inplace=True)\n",
    "df['tweet-clean'] = df['tweet'].apply(clean_text)\n",
    "drop_index = []\n",
    "\n",
    "for i in range(len(df)):\n",
    "    if df['tweet-clean'].iloc[i] in ('', ' '):\n",
    "        drop_index.append(i)\n",
    "\n",
    "df.drop(drop_index, inplace=True)"
   ]
  },
  {
   "cell_type": "code",
   "execution_count": 2,
   "metadata": {},
   "outputs": [],
   "source": [
    "random_state = 0\n",
    "n_jobs = -1"
   ]
  },
  {
   "cell_type": "code",
   "execution_count": 3,
   "metadata": {},
   "outputs": [
    {
     "name": "stdout",
     "output_type": "stream",
     "text": [
      "Number of documents: 34648\n",
      "Size of vocabulary:  86092\n"
     ]
    }
   ],
   "source": [
    "from sklearn.feature_extraction.text import TfidfVectorizer\n",
    "\n",
    "tfidf = TfidfVectorizer(ngram_range=(1, 2), min_df=2)\n",
    "X = tfidf.fit_transform(df['tweet-clean'])\n",
    "\n",
    "print(f'Number of documents: {X.shape[0]}')\n",
    "print(f'Size of vocabulary:  {X.shape[1]}')"
   ]
  },
  {
   "cell_type": "code",
   "execution_count": 4,
   "metadata": {},
   "outputs": [
    {
     "name": "stdout",
     "output_type": "stream",
     "text": [
      "Bernie Sanders  = 0\n",
      "Donald J. Trump = 1\n"
     ]
    }
   ],
   "source": [
    "from sklearn.preprocessing import LabelEncoder\n",
    "\n",
    "le = LabelEncoder()\n",
    "y = le.fit_transform(df['name'])\n",
    "\n",
    "for i in range(len(le.classes_)):\n",
    "    print(f'{le.classes_[i]:<15} = {i}')"
   ]
  },
  {
   "cell_type": "code",
   "execution_count": 5,
   "metadata": {},
   "outputs": [],
   "source": [
    "from sklearn.model_selection import train_test_split\n",
    "\n",
    "X_train, X_test, y_train, y_test = train_test_split(X, y,\n",
    "                                    test_size=0.5,\n",
    "                                    random_state=random_state,\n",
    "                                    stratify=y)"
   ]
  },
  {
   "cell_type": "code",
   "execution_count": 6,
   "metadata": {},
   "outputs": [
    {
     "name": "stdout",
     "output_type": "stream",
     "text": [
      "Logistic Regression accuracy: 95.8%\n"
     ]
    }
   ],
   "source": [
    "from sklearn.linear_model import LogisticRegression\n",
    "\n",
    "clf_log = LogisticRegression(C=20, solver='saga',\n",
    "                             random_state=random_state,\n",
    "                             n_jobs=n_jobs)\n",
    "\n",
    "clf_log.fit(X_train, y_train)\n",
    "log_score = clf_log.score(X_test, y_test)\n",
    "print(f'Logistic Regression accuracy: {log_score:.1%}')"
   ]
  },
  {
   "cell_type": "code",
   "execution_count": 7,
   "metadata": {},
   "outputs": [
    {
     "data": {
      "text/plain": [
       "BernoulliNB(alpha=0.01, binarize=0.09, class_prior=None, fit_prior=True)"
      ]
     },
     "execution_count": 7,
     "metadata": {},
     "output_type": "execute_result"
    }
   ],
   "source": [
    "from sklearn.naive_bayes import BernoulliNB\n",
    "\n",
    "clf_bnb = BernoulliNB(alpha=0.01, binarize=0.09)\n",
    "clf_bnb.fit(X_train, y_train)"
   ]
  },
  {
   "cell_type": "code",
   "execution_count": 8,
   "metadata": {},
   "outputs": [
    {
     "name": "stdout",
     "output_type": "stream",
     "text": [
      "k = 0\n",
      "i = 44798\n",
      "C_k = Bernie Sanders\n",
      "p_ki = 0.0289\n"
     ]
    }
   ],
   "source": [
    "import numpy as np\n",
    "\n",
    "C_k = 'Bernie Sanders'\n",
    "k = le.transform([C_k])[0]\n",
    "i = tfidf.vocabulary_['medicare for']\n",
    "p_ki = np.exp(clf_bnb.feature_log_prob_[k, i])\n",
    "print(f'k = {k}')\n",
    "print(f'i = {i}')\n",
    "print(f'C_k = {C_k}')\n",
    "print(f'p_ki = {p_ki:.3}')"
   ]
  },
  {
   "cell_type": "code",
   "execution_count": 9,
   "metadata": {},
   "outputs": [
    {
     "name": "stdout",
     "output_type": "stream",
     "text": [
      "0.028924\n",
      "0.028922\n"
     ]
    }
   ],
   "source": [
    "df_ki = clf_bnb.feature_count_[k, i]\n",
    "n_k = clf_bnb.class_count_[k]\n",
    "p_ki_manual = df_ki / n_k\n",
    "print(f'{p_ki:.5}')\n",
    "print(f'{p_ki_manual:.5}')"
   ]
  },
  {
   "cell_type": "code",
   "execution_count": 10,
   "metadata": {},
   "outputs": [
    {
     "name": "stdout",
     "output_type": "stream",
     "text": [
      "Bernoulli Naive Bayes accuracy: 96.2%\n"
     ]
    }
   ],
   "source": [
    "bnb_score = clf_bnb.score(X_test, y_test)\n",
    "print(f'Bernoulli Naive Bayes accuracy: {bnb_score:.1%}')"
   ]
  },
  {
   "cell_type": "code",
   "execution_count": 11,
   "metadata": {},
   "outputs": [
    {
     "name": "stdout",
     "output_type": "stream",
     "text": [
      "Ensemble Averaging accuracy: 96.4%\n"
     ]
    }
   ],
   "source": [
    "from sklearn.ensemble import VotingClassifier\n",
    "\n",
    "clf_vot = VotingClassifier(\n",
    "    estimators=[('log', clf_log), ('bnb', clf_bnb)],\n",
    "    voting='soft', weights=(0.6, 0.4), n_jobs=n_jobs)\n",
    "\n",
    "clf_vot.fit(X_train, y_train)\n",
    "vot_score = clf_vot.score(X_test, y_test)\n",
    "print(f'Ensemble Averaging accuracy: {vot_score:.1%}')"
   ]
  },
  {
   "cell_type": "code",
   "execution_count": 12,
   "metadata": {},
   "outputs": [
    {
     "data": {
      "text/plain": [
       "VotingClassifier(estimators=[('log',\n",
       "                              LogisticRegression(C=20, class_weight=None,\n",
       "                                                 dual=False, fit_intercept=True,\n",
       "                                                 intercept_scaling=1,\n",
       "                                                 l1_ratio=None, max_iter=100,\n",
       "                                                 multi_class='auto', n_jobs=-1,\n",
       "                                                 penalty='l2', random_state=0,\n",
       "                                                 solver='saga', tol=0.0001,\n",
       "                                                 verbose=0, warm_start=False)),\n",
       "                             ('bnb',\n",
       "                              BernoulliNB(alpha=0.01, binarize=0.09,\n",
       "                                          class_prior=None, fit_prior=True))],\n",
       "                 flatten_transform=True, n_jobs=-1, voting='soft',\n",
       "                 weights=(0.6, 0.4))"
      ]
     },
     "execution_count": 12,
     "metadata": {},
     "output_type": "execute_result"
    }
   ],
   "source": [
    "clf_vot.fit(X, y)"
   ]
  }
 ],
 "metadata": {
  "kernelspec": {
   "display_name": "Python [conda env:who-said-it] *",
   "language": "python",
   "name": "conda-env-who-said-it-py"
  },
  "language_info": {
   "codemirror_mode": {
    "name": "ipython",
    "version": 3
   },
   "file_extension": ".py",
   "mimetype": "text/x-python",
   "name": "python",
   "nbconvert_exporter": "python",
   "pygments_lexer": "ipython3",
   "version": "3.7.7"
  }
 },
 "nbformat": 4,
 "nbformat_minor": 4
}
