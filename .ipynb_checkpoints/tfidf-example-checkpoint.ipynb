{
 "cells": [
  {
   "cell_type": "code",
   "execution_count": 1,
   "metadata": {},
   "outputs": [
    {
     "name": "stdout",
     "output_type": "stream",
     "text": [
      "               INDEX  doc1_tf  doc2_tf  doc3_tf\n",
      "corpus             0        1        0        1\n",
      "corpus is          1        0        0        1\n",
      "each               2        0        0        1\n",
      "each example       3        0        0        1\n",
      "example            4        1        0        1\n",
      "example in         5        1        0        0\n",
      "first              6        1        0        0\n",
      "first example      7        1        0        0\n",
      "growing            8        0        0        1\n",
      "growing with       9        0        0        1\n",
      "in                10        1        0        0\n",
      "in the            11        1        0        0\n",
      "is                12        1        1        1\n",
      "is growing        13        0        0        1\n",
      "is the            14        1        1        0\n",
      "second            15        0        1        0\n",
      "the               16        2        1        1\n",
      "the corpus        17        1        0        1\n",
      "the first         18        1        0        0\n",
      "the second        19        0        1        0\n",
      "this              20        1        1        0\n",
      "this is           21        1        1        0\n",
      "with              22        0        0        1\n",
      "with each         23        0        0        1\n"
     ]
    }
   ],
   "source": [
    "from sklearn.feature_extraction.text import CountVectorizer\n",
    "import pandas as pd\n",
    "\n",
    "corpus = ['This is the first example in the corpus.',\n",
    "          'This is the second.',\n",
    "          'The corpus is growing with each example.']\n",
    "\n",
    "count = CountVectorizer(ngram_range=(1, 2))\n",
    "count.fit(corpus)\n",
    "df = pd.DataFrame.from_dict(count.vocabulary_,\n",
    "                            orient='index', columns=['INDEX'])\n",
    "df.sort_values(by=['INDEX'], inplace=True)\n",
    "\n",
    "X_count = count.transform(corpus)\n",
    "df['doc1_tf'] = X_count.toarray().T[df['INDEX'], 0]\n",
    "df['doc2_tf'] = X_count.toarray().T[df['INDEX'], 1]\n",
    "df['doc3_tf'] = X_count.toarray().T[df['INDEX'], 2]\n",
    "print(df)"
   ]
  },
  {
   "cell_type": "code",
   "execution_count": 2,
   "metadata": {},
   "outputs": [
    {
     "name": "stdout",
     "output_type": "stream",
     "text": [
      "               INDEX  doc1_tfidf  doc2_tfidf  doc3_tfidf\n",
      "corpus             0    0.227103    0.000000    0.235457\n",
      "corpus is          1    0.000000    0.000000    0.309598\n",
      "each               2    0.000000    0.000000    0.309598\n",
      "each example       3    0.000000    0.000000    0.309598\n",
      "example            4    0.227103    0.000000    0.235457\n",
      "example in         5    0.298613    0.000000    0.000000\n",
      "first              6    0.298613    0.000000    0.000000\n",
      "first example      7    0.298613    0.000000    0.000000\n",
      "growing            8    0.000000    0.000000    0.309598\n",
      "growing with       9    0.000000    0.000000    0.309598\n",
      "in                10    0.298613    0.000000    0.000000\n",
      "in the            11    0.298613    0.000000    0.000000\n",
      "is                12    0.176366    0.280520    0.182854\n",
      "is growing        13    0.000000    0.000000    0.309598\n",
      "is the            14    0.227103    0.361220    0.000000\n",
      "second            15    0.000000    0.474961    0.000000\n",
      "the               16    0.352732    0.280520    0.182854\n",
      "the corpus        17    0.227103    0.000000    0.235457\n",
      "the first         18    0.298613    0.000000    0.000000\n",
      "the second        19    0.000000    0.474961    0.000000\n",
      "this              20    0.227103    0.361220    0.000000\n",
      "this is           21    0.227103    0.361220    0.000000\n",
      "with              22    0.000000    0.000000    0.309598\n",
      "with each         23    0.000000    0.000000    0.309598\n"
     ]
    }
   ],
   "source": [
    "from sklearn.feature_extraction.text import TfidfTransformer\n",
    "\n",
    "tfidf = TfidfTransformer()\n",
    "X_tfidf = tfidf.fit_transform(X_count)\n",
    "df['doc1_tfidf'] = X_tfidf.toarray().T[df['INDEX'], 0]\n",
    "df['doc2_tfidf'] = X_tfidf.toarray().T[df['INDEX'], 1]\n",
    "df['doc3_tfidf'] = X_tfidf.toarray().T[df['INDEX'], 2]\n",
    "print(df[['INDEX', 'doc1_tfidf', 'doc2_tfidf', 'doc3_tfidf']])"
   ]
  }
 ],
 "metadata": {
  "kernelspec": {
   "display_name": "Python [conda env:who-said-it] *",
   "language": "python",
   "name": "conda-env-who-said-it-py"
  },
  "language_info": {
   "codemirror_mode": {
    "name": "ipython",
    "version": 3
   },
   "file_extension": ".py",
   "mimetype": "text/x-python",
   "name": "python",
   "nbconvert_exporter": "python",
   "pygments_lexer": "ipython3",
   "version": "3.7.7"
  }
 },
 "nbformat": 4,
 "nbformat_minor": 4
}
